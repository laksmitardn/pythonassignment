{
 "cells": [
  {
   "cell_type": "code",
   "execution_count": 1,
   "metadata": {},
   "outputs": [
    {
     "name": "stdout",
     "output_type": "stream",
     "text": [
      "mitaa > Hi there! Can you guess the main types of rock?\n",
      "You > I guess 3 types\n",
      "mitaa > Ok, metamorphic rock\n",
      "You > mmm n then sedimentary rock maybe\n",
      "mitaa > mmmm\n",
      "You > the last is igneous rock\n",
      "mitaa > Nice! Igneous rock\n",
      "You > thank you\n",
      "mitaa > see you~\n"
     ]
    }
   ],
   "source": [
    "# making chatbot\n",
    "# type thank you for end the chat\n",
    "\n",
    "from random import randrange\n",
    "\n",
    "respose_message = [\n",
    "    'mmmm',\n",
    "    'Ya! Sedimentary rock',\n",
    "    'great! mention another',\n",
    "    'Ok, metamorphic rock',\n",
    "    'Nice! Igneous rock',\n",
    "    'awesome! keep study hard!'\n",
    "]\n",
    "\n",
    "def get_response():\n",
    "    random_index = randrange ( len( respose_message))\n",
    "    return respose_message[ random_index ]\n",
    "\n",
    "def main():\n",
    "    \n",
    "    print(\"mitaa > Hi there! Can you guess the main types of rock?\")\n",
    "    \n",
    "    while( True ):\n",
    "        user_message = input('You > ')\n",
    "        \n",
    "        if user_message.lower() == \"thank you\": # you can custom\n",
    "            print(\"mitaa > see you~\")\n",
    "            break\n",
    "            \n",
    "        mitaa_response = 'mitaa > ' + get_response()\n",
    "        print(mitaa_response)\n",
    "        \n",
    "if __name__ == \"__main__\":\n",
    "    main()"
   ]
  },
  {
   "cell_type": "code",
   "execution_count": null,
   "metadata": {},
   "outputs": [],
   "source": []
  }
 ],
 "metadata": {
  "kernelspec": {
   "display_name": "Python 3",
   "language": "python",
   "name": "python3"
  },
  "language_info": {
   "codemirror_mode": {
    "name": "ipython",
    "version": 3
   },
   "file_extension": ".py",
   "mimetype": "text/x-python",
   "name": "python",
   "nbconvert_exporter": "python",
   "pygments_lexer": "ipython3",
   "version": "3.7.4"
  }
 },
 "nbformat": 4,
 "nbformat_minor": 2
}
